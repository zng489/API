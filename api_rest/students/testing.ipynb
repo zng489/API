{
 "cells": [
  {
   "cell_type": "code",
   "execution_count": 2,
   "metadata": {},
   "outputs": [],
   "source": [
    "from sqlalchemy import create_engine\n",
    "from sqlalchemy.orm import sessionmaker\n",
    "from sqlalchemy import Column, Integer, String\n",
    "from sqlalchemy.ext.declarative import declarative_base\n",
    "from pydantic import BaseModel"
   ]
  },
  {
   "cell_type": "code",
   "execution_count": 10,
   "metadata": {},
   "outputs": [
    {
     "name": "stdout",
     "output_type": "stream",
     "text": [
      "<sqlalchemy.orm.session.Session object at 0x000002A53CF21A60>\n"
     ]
    }
   ],
   "source": [
    "DATABASE_URL = \"sqlite:///../users.db\"\n",
    "engine = create_engine(DATABASE_URL)\n",
    "SessionLocal = sessionmaker(autocommit=False, autoflush=False, bind=engine)\n",
    "\n",
    "# def get_db():\n",
    "#    db = SessionLocal()\n",
    "#    try:\n",
    "#        yield db\n",
    "#        print (db)\n",
    "#    finally:\n",
    "#        db.close()\n",
    "\n",
    "\n",
    "db = SessionLocal()\n",
    "print(db)"
   ]
  },
  {
   "cell_type": "code",
   "execution_count": 12,
   "metadata": {},
   "outputs": [
    {
     "name": "stdout",
     "output_type": "stream",
     "text": [
      "<sqlalchemy.orm.session.Session object at 0x000002A53D15B6D0>\n"
     ]
    }
   ],
   "source": [
    "DATABASE_URL = \"sqlite:///../users.db\"\n",
    "engine = create_engine(DATABASE_URL)\n",
    "SessionLocal = sessionmaker(autocommit=False, autoflush=False, bind=engine)\n",
    "\n",
    "db = SessionLocal()\n",
    "\n",
    "print(db)"
   ]
  },
  {
   "cell_type": "code",
   "execution_count": null,
   "metadata": {},
   "outputs": [],
   "source": [
    "from sqlalchemy.orm import sessionmaker\n",
    "from sqlalchemy import create_engine\n",
    "from your_model_module import User\n",
    "\n",
    "DATABASE_URL = \"sqlite:///../users.db\"\n",
    "engine = create_engine(DATABASE_URL)\n",
    "SessionLocal = sessionmaker(autocommit=False, autoflush=False, bind=engine)\n",
    "\n",
    "db = SessionLocal()\n",
    "\n",
    "def get_and_print_users():\n",
    "    try:\n",
    "        # Assuming User is your model\n",
    "        users = db.query(User).all()\n",
    "\n",
    "        for user in users:\n",
    "            print(f\"User ID: {user.id}, Username: {user.username}, Email: {user.email}\")\n",
    "    finally:\n",
    "        db.close()\n",
    "\n",
    "# Example usage\n",
    "get_and_print_users()\n"
   ]
  }
 ],
 "metadata": {
  "kernelspec": {
   "display_name": "great_expectations",
   "language": "python",
   "name": "python3"
  },
  "language_info": {
   "codemirror_mode": {
    "name": "ipython",
    "version": 3
   },
   "file_extension": ".py",
   "mimetype": "text/x-python",
   "name": "python",
   "nbconvert_exporter": "python",
   "pygments_lexer": "ipython3",
   "version": "3.8.18"
  }
 },
 "nbformat": 4,
 "nbformat_minor": 2
}
