{
 "cells": [
  {
   "cell_type": "code",
   "execution_count": 5,
   "metadata": {},
   "outputs": [
    {
     "name": "stdout",
     "output_type": "stream",
     "text": [
      "Dados recebidos:\n",
      "{'Hello': 'Worldddddddddddd'}\n"
     ]
    }
   ],
   "source": [
    "import requests\n",
    "\n",
    "# URL para a qual você deseja fazer a requisição\n",
    "url = 'http://localhost:8000/'\n",
    "\n",
    "# Fazendo a requisição GET\n",
    "response = requests.get(url)\n",
    "\n",
    "# Verificando se a requisição foi bem-sucedida\n",
    "if response.status_code == 200:\n",
    "    # Convertendo o conteúdo da resposta para JSON\n",
    "    data = response.json()\n",
    "    print('Dados recebidos:')\n",
    "    print(data)\n",
    "else:\n",
    "    print(f'Falha na requisição. Status code: {response.status_code}')\n"
   ]
  },
  {
   "cell_type": "code",
   "execution_count": null,
   "metadata": {},
   "outputs": [],
   "source": [
    "ssh -D 1337 -C -N gokita@177.235.40.198"
   ]
  },
  {
   "cell_type": "code",
   "execution_count": 2,
   "metadata": {},
   "outputs": [],
   "source": [
    "def generate_numbers(n):\n",
    "    for i in range(n):\n",
    "        yield i\n",
    "\n",
    "# Using the generator function\n",
    "gen = generate_numbers(5)\n",
    "\n",
    "# gen is a lista literally "
   ]
  },
  {
   "cell_type": "code",
   "execution_count": 3,
   "metadata": {},
   "outputs": [
    {
     "data": {
      "text/plain": [
       "<generator object generate_numbers at 0x0000021619F3D040>"
      ]
     },
     "execution_count": 3,
     "metadata": {},
     "output_type": "execute_result"
    }
   ],
   "source": [
    "gen"
   ]
  },
  {
   "cell_type": "code",
   "execution_count": 4,
   "metadata": {},
   "outputs": [
    {
     "name": "stdout",
     "output_type": "stream",
     "text": [
      "0\n",
      "1\n",
      "2\n",
      "3\n",
      "4\n"
     ]
    }
   ],
   "source": [
    "# Iterating over the generated values\n",
    "for number in gen:\n",
    "    print(number)"
   ]
  },
  {
   "cell_type": "code",
   "execution_count": 7,
   "metadata": {},
   "outputs": [
    {
     "name": "stdout",
     "output_type": "stream",
     "text": [
      "{\"name\": \"John\", \"age\": 30, \"city\": \"New York\"}\n"
     ]
    }
   ],
   "source": [
    "import json\n",
    "from fastapi.encoders import jsonable_encoder\n",
    "\n",
    "# Example object (e.g., a Pydantic model or SQLAlchemy model)\n",
    "example_object = {\"name\": \"John\", \"age\": 30, \"city\": \"New York\"}\n",
    "\n",
    "# Convert the object to a JSON-serializable form\n",
    "jsonable_object = jsonable_encoder(example_object)\n",
    "\n",
    "# Convert the dictionary to a JSON string\n",
    "json_string = json.dumps(jsonable_object)\n",
    "\n",
    "print(json_string)\n"
   ]
  },
  {
   "cell_type": "code",
   "execution_count": null,
   "metadata": {},
   "outputs": [],
   "source": [
    "# SQLITE3"
   ]
  },
  {
   "cell_type": "code",
   "execution_count": 21,
   "metadata": {},
   "outputs": [
    {
     "name": "stdout",
     "output_type": "stream",
     "text": [
      "Tables in the database:\n",
      "items\n"
     ]
    }
   ],
   "source": [
    "import sqlite3\n",
    "\n",
    "#def get_table_names(database_path):\n",
    "# Connect to the SQLite database file\n",
    "#conn = sqlite3.connect(database_path)\n",
    "conn = sqlite3.connect('test copy.db')\n",
    "\n",
    "\n",
    "# Create a cursor object to execute SQL queries\n",
    "cursor = conn.cursor()\n",
    "\n",
    "# Execute a query to get table names from sqlite_master\n",
    "query = \"SELECT name FROM sqlite_master WHERE type='table';\"\n",
    "cursor.execute(query)\n",
    "\n",
    "# Fetch the results\n",
    "results = cursor.fetchall()\n",
    "\n",
    "# Close the connection\n",
    "conn.close()\n",
    "\n",
    "# Extract and return the table names\n",
    "table_names = [result[0] for result in results]\n",
    "#return table_names\n",
    "\n",
    "# Replace 'your_database_path.db' with the path to your SQLite database file\n",
    "database_path = 'your_database_path.db'\n",
    "#tables = get_table_names(database_path)\n",
    "tables = table_names\n",
    "\n",
    "print(\"Tables in the database:\")\n",
    "for table in tables:\n",
    "    print(table)\n"
   ]
  },
  {
   "cell_type": "code",
   "execution_count": 22,
   "metadata": {},
   "outputs": [
    {
     "data": {
      "text/plain": [
       "[(1, 'Banana', 'Banana is fruit'), (2, '1231231', 'weqweqeqweqg')]"
      ]
     },
     "execution_count": 22,
     "metadata": {},
     "output_type": "execute_result"
    }
   ],
   "source": [
    "import sqlite3\n",
    "\n",
    "# Connect to the SQLite database file\n",
    "conn = sqlite3.connect('test copy.db')\n",
    "\n",
    "# Create a cursor object to execute SQL queries\n",
    "conn.execute(\"SELECT * FROM items\").fetchall()"
   ]
  },
  {
   "cell_type": "code",
   "execution_count": 23,
   "metadata": {},
   "outputs": [
    {
     "name": "stdout",
     "output_type": "stream",
     "text": [
      "(1, 'Banana', 'Banana is fruit')\n",
      "(2, '1231231', 'weqweqeqweqg')\n"
     ]
    }
   ],
   "source": [
    "import sqlite3\n",
    "\n",
    "# Connect to the SQLite database file\n",
    "conn = sqlite3.connect('test copy.db')\n",
    "\n",
    "# Create a cursor object to execute SQL queries\n",
    "cursor = conn.cursor()\n",
    "\n",
    "# Execute a SELECT query\n",
    "query = 'SELECT * FROM items'\n",
    "cursor.execute(query)\n",
    "\n",
    "# Fetch the results\n",
    "results = cursor.fetchall()\n",
    "\n",
    "# Print the results\n",
    "for row in results:\n",
    "    print(row)\n",
    "\n",
    "# Close the connection\n",
    "conn.close()\n"
   ]
  },
  {
   "cell_type": "code",
   "execution_count": 24,
   "metadata": {},
   "outputs": [],
   "source": [
    "def packing_grocery_list(**grocery):\n",
    "    for key, value in grocery.items():\n",
    "        print(key, value)\n",
    "\n",
    "    print(grocery)"
   ]
  },
  {
   "cell_type": "code",
   "execution_count": 25,
   "metadata": {},
   "outputs": [
    {
     "name": "stdout",
     "output_type": "stream",
     "text": [
      "x 2\n",
      "y 3\n",
      "t 5\n",
      "q 0\n",
      "{'x': 2, 'y': 3, 't': 5, 'q': 0}\n"
     ]
    }
   ],
   "source": [
    "packing_grocery_list(x=2, y=3, t=5, q=0)"
   ]
  },
  {
   "cell_type": "code",
   "execution_count": null,
   "metadata": {},
   "outputs": [],
   "source": [
    "######################\n",
    "# fast_api_1 main.py #\n",
    "###################### "
   ]
  },
  {
   "cell_type": "code",
   "execution_count": 1,
   "metadata": {},
   "outputs": [
    {
     "name": "stdout",
     "output_type": "stream",
     "text": [
      "Hello, Stranger!\n",
      "Hello, Alice!\n"
     ]
    }
   ],
   "source": [
    "from typing import Optional\n",
    "\n",
    "def greet(name: Optional[str] = None):\n",
    "    if name is None:\n",
    "        return \"Hello, Stranger!\"\n",
    "    else:\n",
    "        return f\"Hello, {name}!\"\n",
    "\n",
    "# Examples\n",
    "print(greet())\n",
    "# name: None          \n",
    "# Output: \"Hello, Stranger!\"\n",
    "\n",
    "print(greet(\"Alice\"))   \n",
    "# Output: \"Hello, Alice!\""
   ]
  },
  {
   "cell_type": "code",
   "execution_count": null,
   "metadata": {},
   "outputs": [],
   "source": [
    "print(greet())"
   ]
  }
 ],
 "metadata": {
  "kernelspec": {
   "display_name": "great_expectations",
   "language": "python",
   "name": "python3"
  },
  "language_info": {
   "codemirror_mode": {
    "name": "ipython",
    "version": 3
   },
   "file_extension": ".py",
   "mimetype": "text/x-python",
   "name": "python",
   "nbconvert_exporter": "python",
   "pygments_lexer": "ipython3",
   "version": "3.8.18"
  }
 },
 "nbformat": 4,
 "nbformat_minor": 2
}
