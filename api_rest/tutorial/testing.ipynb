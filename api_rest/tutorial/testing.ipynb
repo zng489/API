{
 "cells": [
  {
   "cell_type": "code",
   "execution_count": 6,
   "metadata": {},
   "outputs": [
    {
     "name": "stdout",
     "output_type": "stream",
     "text": [
      "0\n",
      "Counter value: 0\n",
      "1\n",
      "Counter value: 2\n",
      "2\n",
      "Counter value: 4\n",
      "3\n",
      "Counter value: 6\n",
      "4\n",
      "Counter value: 8\n",
      "Final counter value: 10\n"
     ]
    }
   ],
   "source": [
    "# Initialize a counter\n",
    "counter = 0\n",
    "\n",
    "# Loop example - increment the counter in each iteration\n",
    "for _ in range(5):\n",
    "    print(_)\n",
    "    print(f\"Counter value: {counter}\")\n",
    "    # Increment the counter\n",
    "    counter += 2\n",
    "\n",
    "print(\"Final counter value:\", counter)"
   ]
  },
  {
   "cell_type": "code",
   "execution_count": 31,
   "metadata": {},
   "outputs": [],
   "source": [
    "# Second Example"
   ]
  },
  {
   "cell_type": "code",
   "execution_count": 48,
   "metadata": {},
   "outputs": [],
   "source": [
    "class Book:\n",
    "    def __init__(self, book_id, title):\n",
    "        self.id = book_id\n",
    "        self.title = title\n",
    "\n",
    "# Example usage\n",
    "book_id_to_find = 42\n",
    "\n",
    "# Create a list of books\n",
    "books = [\n",
    "    Book(1, \"Book One\"),\n",
    "    Book(22, \"Book Twenty-Two\"),\n",
    "    Book(42, \"Book Forty-Two\"),\n",
    "    Book(100, \"Book One Hundred\"),\n",
    "]"
   ]
  },
  {
   "cell_type": "code",
   "execution_count": 33,
   "metadata": {},
   "outputs": [
    {
     "data": {
      "text/plain": [
       "[<__main__.Book at 0x23236512ac0>,\n",
       " <__main__.Book at 0x23236512640>,\n",
       " <__main__.Book at 0x232365129d0>,\n",
       " <__main__.Book at 0x232366d8b80>]"
      ]
     },
     "execution_count": 33,
     "metadata": {},
     "output_type": "execute_result"
    }
   ],
   "source": [
    "books"
   ]
  },
  {
   "cell_type": "code",
   "execution_count": 34,
   "metadata": {},
   "outputs": [
    {
     "name": "stdout",
     "output_type": "stream",
     "text": [
      "1\n",
      "Book One\n",
      "22\n",
      "Book Twenty-Two\n",
      "42\n",
      "Book Forty-Two\n",
      "100\n",
      "Book One Hundred\n"
     ]
    }
   ],
   "source": [
    "# Check if any book has the desired book_id\n",
    "found_book = None\n",
    "for book in books:\n",
    "    print(book.id)\n",
    "    print(book.title)"
   ]
  },
  {
   "cell_type": "code",
   "execution_count": 42,
   "metadata": {},
   "outputs": [
    {
     "name": "stdout",
     "output_type": "stream",
     "text": [
      "Book found with id 42: Book Forty-Two\n"
     ]
    }
   ],
   "source": [
    "# Check if any book has the desired book_id\n",
    "found_book = None\n",
    "for book in books:\n",
    "    if book.id == book_id_to_find:\n",
    "        found_book = book\n",
    "        break\n",
    "\n",
    "# Print the result\n",
    "if found_book:\n",
    "    print(f\"Book found with id {book_id_to_find}: {found_book.title}\")\n",
    "else:\n",
    "    print(f\"No book found with id {book_id_to_find}\")\n"
   ]
  },
  {
   "cell_type": "code",
   "execution_count": 43,
   "metadata": {},
   "outputs": [],
   "source": [
    "class Book:\n",
    "    def __init__(self, book_id, title):\n",
    "        self.id = book_id\n",
    "        self.title = title\n",
    "\n",
    "# Sample list of books\n",
    "BOOKS = [\n",
    "    Book(1, \"Book One\"),\n",
    "    Book(2, \"Book Two\"),\n",
    "    Book(3, \"Book Three\"),\n",
    "]"
   ]
  },
  {
   "cell_type": "code",
   "execution_count": 44,
   "metadata": {},
   "outputs": [
    {
     "name": "stdout",
     "output_type": "stream",
     "text": [
      "<__main__.Book object at 0x00000232365C5430>\n",
      "1\n",
      "<__main__.Book object at 0x00000232365C5CD0>\n",
      "2\n",
      "<__main__.Book object at 0x000002323669F2B0>\n",
      "3\n"
     ]
    }
   ],
   "source": [
    "for _ in BOOKS:\n",
    "    print(_)\n",
    "    print(_.id)"
   ]
  },
  {
   "cell_type": "code",
   "execution_count": 45,
   "metadata": {},
   "outputs": [
    {
     "name": "stdout",
     "output_type": "stream",
     "text": [
      "values 1\n",
      "values 2\n",
      "2\n",
      "Book Two\n",
      "Updated Book Two\n",
      "values 3\n"
     ]
    }
   ],
   "source": [
    "# let`s suppose that book_id = 2`\n",
    "\n",
    "new_book = \"Updated Book Two\"\n",
    "book_id = 2\n",
    "counter = 0\n",
    "for x in BOOKS:\n",
    "    counter += 1\n",
    "    print(\"values\",counter)\n",
    "    if x.id == book_id:\n",
    "        print(x.id)\n",
    "        print(x.title)\n",
    "        BOOKS[counter - 1] = new_book\n",
    "        print(BOOKS[counter - 1])"
   ]
  },
  {
   "cell_type": "code",
   "execution_count": null,
   "metadata": {},
   "outputs": [],
   "source": [
    "for book in BOOKS:\n",
    "    print(f\"Book ID: {book.id}, Title: {book.title}\")"
   ]
  },
  {
   "cell_type": "code",
   "execution_count": null,
   "metadata": {},
   "outputs": [],
   "source": [
    "\n",
    "def update_book(book_id, new_book):\n",
    "    counter = 0\n",
    "    for x in BOOKS:\n",
    "        counter += 1\n",
    "        if x.id == book_id:\n",
    "            BOOKS[counter - 1] = new_book\n",
    "            return BOOKS[counter - 1]\n",
    "\n",
    "# Example usage\n",
    "book_id_to_update = 2\n",
    "new_book_data = Book(2, \"Updated Book Two\")\n",
    "\n",
    "updated_book = update_book(book_id_to_update, new_book_data)\n",
    "\n",
    "# Print the updated book list\n",
    "for book in BOOKS:\n",
    "    print(f\"Book ID: {book.id}, Title: {book.title}\")"
   ]
  },
  {
   "cell_type": "code",
   "execution_count": 50,
   "metadata": {},
   "outputs": [
    {
     "name": "stdout",
     "output_type": "stream",
     "text": [
      "Book ID: 1, Title: Book One\n",
      "Book ID: 2, Title: Updated Book Two\n",
      "Book ID: 3, Title: Book Three\n"
     ]
    }
   ],
   "source": [
    "class Book:\n",
    "    def __init__(self, book_id, title):\n",
    "        self.id = book_id\n",
    "        self.title = title\n",
    "\n",
    "# Sample list of books\n",
    "BOOKS = [\n",
    "    Book(1, \"Book One\"),\n",
    "    Book(2, \"Book Two\"),\n",
    "    Book(3, \"Book Three\"),\n",
    "]\n",
    "\n",
    "def update_book(book_id, new_book):\n",
    "    counter = 0\n",
    "    for x in BOOKS:\n",
    "        counter += 1\n",
    "        if x.id == book_id:\n",
    "            BOOKS[counter - 1] = new_book\n",
    "            return BOOKS[counter - 1]\n",
    "\n",
    "# Example usage\n",
    "book_id_to_update = 2\n",
    "new_book_data = Book(2, \"Updated Book Two\")\n",
    "\n",
    "updated_book = update_book(book_id_to_update, new_book_data)\n",
    "\n",
    "# Print the updated book list\n",
    "for book in BOOKS:\n",
    "    print(f\"Book ID: {book.id}, Title: {book.title}\")\n"
   ]
  },
  {
   "cell_type": "code",
   "execution_count": null,
   "metadata": {},
   "outputs": [],
   "source": []
  }
 ],
 "metadata": {
  "kernelspec": {
   "display_name": "great_expectations",
   "language": "python",
   "name": "python3"
  },
  "language_info": {
   "codemirror_mode": {
    "name": "ipython",
    "version": 3
   },
   "file_extension": ".py",
   "mimetype": "text/x-python",
   "name": "python",
   "nbconvert_exporter": "python",
   "pygments_lexer": "ipython3",
   "version": "3.8.18"
  }
 },
 "nbformat": 4,
 "nbformat_minor": 2
}
