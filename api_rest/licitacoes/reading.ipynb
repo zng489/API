{
 "cells": [
  {
   "cell_type": "code",
   "execution_count": 1,
   "metadata": {},
   "outputs": [],
   "source": [
    "from sqlalchemy import create_engine\n",
    "\n",
    "engine = create_engine(r'sqlite:///C:\\Users\\PC\\Desktop\\api_rest\\licitacoes\\data.db')"
   ]
  },
  {
   "cell_type": "code",
   "execution_count": 4,
   "metadata": {},
   "outputs": [
    {
     "name": "stdout",
     "output_type": "stream",
     "text": [
      "('posts',)\n",
      "('posts_ref',)\n"
     ]
    }
   ],
   "source": [
    "from sqlalchemy import create_engine, text\n",
    "\n",
    "# Create a connection to the database file\n",
    "engine = create_engine(r'sqlite:///C:\\Users\\PC\\Desktop\\api_rest\\licitacoes\\data.db')\n",
    "\n",
    "# Execute the SQL query and retrieve the table names\n",
    "with engine.connect() as connection:\n",
    "    result = connection.execute(text(\"SELECT name FROM sqlite_master WHERE type = 'table';\")).fetchall()\n",
    "\n",
    "# Print the table names\n",
    "for table_name in result:\n",
    "    print(table_name)"
   ]
  },
  {
   "cell_type": "code",
   "execution_count": 7,
   "metadata": {},
   "outputs": [
    {
     "name": "stdout",
     "output_type": "stream",
     "text": [
      "[(2, 'asdasdasdautykkkkutyutda', 'string', '2342342342', '342342342', 'dasdasdas,342342342')]\n"
     ]
    }
   ],
   "source": [
    "from sqlalchemy import create_engine, text\n",
    "\n",
    "# Create a connection to the database file\n",
    "engine = create_engine(r'sqlite:///C:\\Users\\PC\\Desktop\\api_rest\\licitacoes\\data.db')\n",
    "\n",
    "# Execute the SQL query and retrieve the table names\n",
    "with engine.connect() as connection:\n",
    "    result = connection.execute(text(\"SELECT * FROM 'posts';\")).fetchall()\n",
    "    print(result)\n",
    "\n",
    "\n",
    "# Print the table names\n",
    "#for table_name in result:\n",
    "#    print(table_name)"
   ]
  },
  {
   "cell_type": "code",
   "execution_count": null,
   "metadata": {},
   "outputs": [],
   "source": []
  }
 ],
 "metadata": {
  "kernelspec": {
   "display_name": "great_expectations",
   "language": "python",
   "name": "python3"
  },
  "language_info": {
   "codemirror_mode": {
    "name": "ipython",
    "version": 3
   },
   "file_extension": ".py",
   "mimetype": "text/x-python",
   "name": "python",
   "nbconvert_exporter": "python",
   "pygments_lexer": "ipython3",
   "version": "3.8.18"
  }
 },
 "nbformat": 4,
 "nbformat_minor": 2
}
